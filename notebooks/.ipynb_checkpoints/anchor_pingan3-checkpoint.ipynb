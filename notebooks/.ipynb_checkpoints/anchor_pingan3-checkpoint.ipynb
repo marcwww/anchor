{
 "cells": [
  {
   "cell_type": "code",
   "execution_count": 1,
   "metadata": {},
   "outputs": [],
   "source": [
    "import os\n",
    "import os.path\n",
    "import numpy as np\n",
    "import sklearn\n",
    "import sklearn.model_selection\n",
    "import sklearn.linear_model\n",
    "import sklearn.ensemble\n",
    "import spacy\n",
    "import sys\n",
    "from sklearn.feature_extraction.text import CountVectorizer\n",
    "os.chdir('..')\n",
    "from anchor_zh import anchor_text\n",
    "import crash_on_ipy\n",
    "os.chdir('./notebooks')\n",
    "import jieba"
   ]
  },
  {
   "cell_type": "code",
   "execution_count": 2,
   "metadata": {},
   "outputs": [],
   "source": [
    "def load_pingan3(fpath, idx2lbl=None):\n",
    "    data = []\n",
    "    labels = []\n",
    "    with open(fpath, 'r') as f:\n",
    "        for line in f:\n",
    "            lbl, txt = line.strip().split('\\t')\n",
    "            txt = ' '.join(jieba.cut(txt.strip()))\n",
    "            data.append(txt)\n",
    "            labels.append(lbl)\n",
    "    if idx2lbl is None:\n",
    "        idx2lbl = list(set(labels))\n",
    "    lbl2idx = {lbl:idx for idx, lbl in enumerate(idx2lbl)}\n",
    "    for i in range(len(labels)):\n",
    "        labels[i] = lbl2idx[labels[i]]\n",
    "        \n",
    "    return data, labels, idx2lbl, lbl2idx"
   ]
  },
  {
   "cell_type": "code",
   "execution_count": 3,
   "metadata": {},
   "outputs": [],
   "source": [
    "ftrain = os.path.join('pingan3', 'train_data.txt')\n",
    "fvalid = os.path.join('pingan3', 'validation_data.txt')"
   ]
  },
  {
   "cell_type": "code",
   "execution_count": 4,
   "metadata": {},
   "outputs": [
    {
     "name": "stderr",
     "output_type": "stream",
     "text": [
      "Building prefix dict from the default dictionary ...\n",
      "Loading model from cache /var/folders/bl/d6ntdtz11rn60q3s4fhr4kv80000gn/T/jieba.cache\n",
      "Loading model cost 0.697 seconds.\n",
      "Prefix dict has been built succesfully.\n"
     ]
    }
   ],
   "source": [
    "train, train_lbls, idx2lbl, lbl2idx = load_pingan3(ftrain)\n",
    "valid, valid_lbls, _, _ = load_pingan3(fvalid, idx2lbl)"
   ]
  },
  {
   "cell_type": "code",
   "execution_count": 5,
   "metadata": {},
   "outputs": [],
   "source": [
    "vectorizer = CountVectorizer(min_df=1)\n",
    "vectorizer.fit(train)\n",
    "train_vectors = vectorizer.transform(train)\n",
    "valid_vectors = vectorizer.transform(valid)"
   ]
  },
  {
   "cell_type": "code",
   "execution_count": 6,
   "metadata": {},
   "outputs": [],
   "source": [
    "# c = sklearn.linear_model.LogisticRegression(solver='lbfgs', max_iter=200)\n",
    "# c = sklearn.linear_model.Perceptron()\n",
    "c = sklearn.ensemble.RandomForestClassifier(n_estimators=500, n_jobs=10)\n",
    "c.fit(train_vectors, train_lbls)\n",
    "def predict_lr(texts):\n",
    "    return c.predict(vectorizer.transform(texts))"
   ]
  },
  {
   "cell_type": "code",
   "execution_count": 7,
   "metadata": {},
   "outputs": [
    {
     "name": "stderr",
     "output_type": "stream",
     "text": [
      "/Users/marc/miniconda3/envs/pingan3/lib/python3.6/site-packages/sklearn/metrics/classification.py:1143: UndefinedMetricWarning: F-score is ill-defined and being set to 0.0 in labels with no predicted samples.\n",
      "  'precision', 'predicted', average, warn_for)\n"
     ]
    },
    {
     "name": "stdout",
     "output_type": "stream",
     "text": [
      "Valid f1 0.5810617209340265\n",
      "Train f1 0.9776967050254506\n"
     ]
    }
   ],
   "source": [
    "preds = c.predict(valid_vectors)\n",
    "print('Valid f1', sklearn.metrics.f1_score(valid_lbls, preds, average='macro'))\n",
    "preds = c.predict(train_vectors)\n",
    "print('Train f1', sklearn.metrics.f1_score(train_lbls, preds, average='macro'))"
   ]
  },
  {
   "cell_type": "code",
   "execution_count": 149,
   "metadata": {
    "collapsed": true,
    "jupyter": {
     "outputs_hidden": true
    }
   },
   "outputs": [
    {
     "name": "stdout",
     "output_type": "stream",
     "text": [
      "3\n",
      "( 1 ) 前牙 结构 发育不良 ： 釉质 发育不全 、 氟斑牙 、 四环素牙 等 ；\n",
      "Age Oral related\n",
      "8\n",
      "7 ） 曾经 或 目前 存在 迟发性 运动障碍 症状 的 患者 ；\n",
      "Disease Symptom\n",
      "13\n",
      "4 .   患者 入选 前 无 房颤 导管 消融 手术 史 ；\n",
      "Pregnancy-related Activity Therapy or Surgery\n",
      "19\n",
      "（ 1 ） 入院 时低 体温 ， 体温 & lt ; 34 ℃\n",
      "Laboratory Examinations Disease\n",
      "29\n",
      "4 ) 在 服用 研究 药物 前 三个 月 内 献血 或 大量 失血 （ & gt ;   450   mL ）\n",
      "Multiple Blood Donation\n",
      "34\n",
      "1 .   术 前 胃镜 病理 检查 证实 胃癌 诊断 且 预计 行 远端 胃癌 根治术 或 根治性 全 胃切除术\n",
      "Diagnostic Multiple\n",
      "38\n",
      "3 .   拿到 驾驶执照 （ C1 / C2 ） 1 月 内 ；\n",
      "Age Special Patient Characteristic\n",
      "39\n",
      "3 ) 能够 与 研究者 良好 交流 及 遵照 整个 试验 要求\n",
      "Compliance with Protocol Multiple\n",
      "46\n",
      "1 . 未育 女性 ， 右利手 ， 18 岁 ≤ 年龄 ≤ 30 岁 ；\n",
      "Multiple Special Patient Characteristic\n",
      "48\n",
      "2 .   病情 危重 需 入住 ICU 病房 的 患儿 ；\n",
      "Encounter Multiple\n",
      "49\n",
      "（ 3 ） DBS 手术 （ 手术 靶点 为 双侧 STN ） ， 患者 术前 MOCA 评分 & gt ; 26 分 ， 术后 MOCA 评分 20 - 25 分\n",
      "Risk Assessment Multiple\n",
      "51\n",
      "2 ） 性激素 ： 青春期 龈炎 ， 妊娠期 妇女\n",
      "Pregnancy-related Activity Multiple\n",
      "54\n",
      "A .   计划 在 试验 后 14 天内 完成 冠脉 造影 检查 的 患者\n",
      "Therapy or Surgery Device\n",
      "57\n",
      "① 同一 患者 相同 部位 重复 分离 的 菌株 ；\n",
      "Disease Therapy or Surgery\n",
      "58\n",
      "2 .   需 透析 治疗 的 终末期 肾病 患者 ；\n",
      "Therapy or Surgery Multiple\n",
      "61\n",
      "（ 1 ） 具有 乐清 眼病 筛查 项目 覆盖 区域 （ 柳 市镇 、 乐成 街道 、 城东 街道 、 城南 街道 、 盐盆 街道 ） 的 户籍 ；\n",
      "Disease Address\n",
      "64\n",
      "3 ) 既往 曾 有 酒药 依赖 及 急性 中毒 史 的 患者 ;\n",
      "Disease Addictive Behavior\n",
      "65\n",
      "1 . 患者 病理 类型 为 除 子宫 内膜 样 腺癌 以外 的 特殊 类型 子宫 内膜 癌 。\n",
      "Diagnostic Disease\n",
      "66\n",
      "⑷ 胃 残留量 增加 （ 单次 测量 ＞ 150ml 或 12 小时 累积 量 ＞ 500ml ） ；\n",
      "Disease Laboratory Examinations\n",
      "71\n",
      "( 4 ) 对 研究 药物 （ 增强 剂 ） 无 过敏 ， 无 MR 检查 禁忌症 ；\n",
      "Multiple Allergy Intolerance\n",
      "72\n",
      "（ 6 ） 对本 治疗 方案 中 不 合作 或 不 耐受 者 。\n",
      "Therapy or Surgery Multiple\n",
      "75\n",
      "3 ） 近期 有 酗酒 和 镇痛 药物滥用 史 ， 或 强效 阿片类 药物 和 抗抑郁 药物 治疗 史 的 患者 。\n",
      "Addictive Behavior Multiple\n",
      "80\n",
      "3 ） 既往 曾 有 酒药 依赖 及 急性 中毒 史 的 患者 ；\n",
      "Disease Multiple\n",
      "81\n",
      "9 . 在 访视 1 前 30 天内 或者 5 个 半衰期 内 （ 以较 长 的 时间 为准 ） 曾 使用 了 其他 试验 药物 ；\n",
      "Pharmaceutical Substance or Drug Enrollment in other studies\n",
      "86\n",
      "15 、 因 居住地 、 工作 等 原因 不能 定期 随访 者 。\n",
      "Compliance with Protocol Multiple\n",
      "92\n",
      "7 . 试验 给 药前 3 个 月 内 参加 过 献血 或 被 试验 采血 超过 400ml 者 ；\n",
      "Multiple Blood Donation\n",
      "96\n",
      "（ 6 ） 已 接受 有关 治疗 ， 可能 影响 对 有效性 、 安全性 指标 评价者 ；\n",
      "Multiple Therapy or Surgery\n",
      "104\n",
      "（ 4 ） 严重 屈曲 畸形 、 内外 翻 畸形 需要 使用 特殊 假体 的 患者\n",
      "Disease Multiple\n",
      "108\n",
      "1 .   半年 内新发 的 不 稳定型 心绞痛 、 心肌梗死 、 冠状动脉 介入 术 或 冠状动脉 搭桥术 的 患者\n",
      "Disease Multiple\n",
      "109\n",
      "（ 3 ） 恶性 高热 家族史\n",
      "Sign Disease\n",
      "116\n",
      "15 、 有 其他 合并 用 的 抗癌 治疗 （ 包括 LHRH 激动剂 、 抗癌 中药 、 免疫治疗 ） ， 类固醇 激素 除外 ；\n",
      "Disease Pharmaceutical Substance or Drug\n",
      "117\n",
      "10 .   存在 影响 认知 能力 的 神经 或 精神异常 ， 包括 中枢神经 系统 的 转移 ；\n",
      "Multiple Disease\n",
      "121\n",
      "（ 3 ） 既往 有 腹腔 手术 史 或 腹腔 广泛 黏连 患者 ；\n",
      "Therapy or Surgery Multiple\n",
      "125\n",
      "1 .   MR 明确 诊断 Chiari Ⅰ 畸形 ， 具有 相应 临床 症状 体征 ；\n",
      "Diagnostic Multiple\n",
      "142\n",
      "心动 过缓\n",
      "Age Disease\n",
      "148\n",
      "③   合并 严重 心 、 脑 、 肝 、 肾 疾病 及 精神病 患者 ， ECOG 评分 ＞ 2 分\n",
      "Disease Multiple\n",
      "149\n",
      "2 ） 肿瘤 位于 右半 结肠 ： 回盲部 、 升结肠 、 结肠 肝曲 、 横结肠 右 1 / 3 ；\n",
      "Disease Neoplasm Status\n",
      "165\n",
      "13 . 患有 周围 神经系统 疾病 ， 四肢 肌力 在 3 级 及 以上者 。\n",
      "Disease Multiple\n",
      "166\n",
      "7 . 重度 肝功能 不全 （ Child - Pugh 评分 ≥ 10 分 ） ；\n",
      "Risk Assessment Multiple\n",
      "175\n",
      "15 . 身体 或 心理因素 影响 ， 导致 口腔 环境 较差 ， 不能 保持良好 的 口腔卫生 护理 ；\n",
      "Compliance with Protocol Oral related\n",
      "179\n",
      "3 、 肿瘤 ， 心肺 、 肝 、 肾功能 不全\n",
      "Organ or Tissue Status Multiple\n",
      "190\n",
      "③ 患有 抑郁 ， 老年 抑郁 量表 （ GDS ） ≥ 11 分 或 其它 精神病 史 （ 如 人格障碍 、 精神分裂症 等 ） ；\n",
      "Disease Multiple\n",
      "196\n",
      "2 、   经 医生 诊断 为 痛风 ， 入选 前 三个 月 未 使用 降 尿酸 药物 ；\n",
      "Pharmaceutical Substance or Drug Multiple\n",
      "204\n",
      "3 ) Tamai 分区 III - V 区者\n",
      "Age Disease\n",
      "205\n",
      "1 、 急性 脑梗死 患者 ， 年龄 ≥ 18 岁 ， CTA 或 MRA 证明 大 血管 闭塞 患者 。\n",
      "Age Multiple\n",
      "207\n",
      "4 、 理解 并 自愿 签署 书面 知情 同意书 ， 愿意 并且 能够 遵守 所有 的 试验 要求 。\n",
      "Consent Multiple\n",
      "212\n",
      "（ 5 ） 过去 未 服用 降压 药物 者 或者 已 服用 一种 西药 降压 药物 至少 14 天 ( 只能 是 钙 离子 拮抗剂 、 血管 紧张 素 转化酶 抑制剂 、 血管 紧张 素 II 受体 拮抗剂 ） 但 血压 仍 未达标 者 ；\n",
      "Pharmaceutical Substance or Drug Multiple\n",
      "221\n",
      "( 8 ) 伴有 焦虑 、 抑郁 、 痴呆 等 。\n",
      "Disease Symptom\n",
      "230\n",
      "2 ) 睡眠 自 评量 表 （ SRSS ） ≧ 20 分 的 患者 。\n",
      "Disease Risk Assessment\n",
      "232\n",
      "（ 5 ） 有 呼吸道 慢性病 史 ， 不能 耐受 艾灸 气味 者 。\n",
      "Allergy Intolerance Multiple\n",
      "236\n",
      "1 .   存在 摄食 困难 症状 ；\n",
      "Disease Sign\n",
      "238\n",
      "1 ） 成都地区 社区 居民 ， 年龄 65 ～ 80 岁 ；\n",
      "Age Multiple\n",
      "239\n",
      "②   伴高雄 的 瘦型 PCOS 的 辩证 分型 ：\n",
      "Disease Non-Neoplasm Disease Stage\n",
      "251\n",
      "4 、 胸部 X 线 排除 合并 肺炎 ；\n",
      "Disease Diagnostic\n",
      "252\n",
      "1 .   下肢 动脉 有 置入 支架 史 或 人工 血管 移植 史 。\n",
      "Therapy or Surgery Device\n",
      "253\n",
      "（ 3 ） 与 有 症状 的 的 颅内 狭窄 同侧 的 颅 外段 颈动脉 狭窄 （ ＞ 50% ） ；\n",
      "Sign Disease\n",
      "260\n",
      "（ 6 ） 性生活 正常 且 规律 。\n",
      "Organ or Tissue Status Sexual related\n",
      "275\n",
      "1 .   单纯 因 诊断 性 检查 或 血液 透析 而 入院 的 患者 。\n",
      "Diagnostic Multiple\n",
      "277\n",
      "4 ) 严重 的 肺 功能 不 全伴 呼吸困难 ， 不能 平卧 者 ；\n",
      "Organ or Tissue Status Multiple\n",
      "278\n",
      "1 、 既往 有 心脏 手术 史及 脑血管病 史\n",
      "Therapy or Surgery Multiple\n",
      "280\n",
      "6 ） 具有 良好 的 自知 力 ， 能 理解 疾病 并 主动 接受 治疗 。\n",
      "Multiple Capacity\n",
      "286\n",
      "( 5 ) 根据 病史 、 体格检查 和 实验室 检查 结果 ， 研究者 认为 受试者 健康 状态 良好 。\n",
      "Researcher Decision Multiple\n",
      "287\n",
      "6 ） 具备 单采 或者 静脉 采血 足够 的 静脉 通路 ， 并且 没有 其他 的 血细胞 分离 禁忌症 ；\n",
      "Disease Multiple\n",
      "290\n",
      "7 . 不愿 或 不能 停止使用 已知 会 导致 干眼症 的 药物 （ 如异维 A 酸 和 抗 组胺 药 ） 。 受试者 不愿 在 基线 检查 前 至少 一个月 停止 这些 药物 ；\n",
      "Allergy Intolerance Capacity\n",
      "295\n",
      "（ 4 ） 肿瘤 局限 在 右半 肝 , 符合 右半 肝 切除 或 扩大 右半 肝 切除 可以 达到 根治 效果 ；\n",
      "Therapy or Surgery Multiple\n",
      "306\n",
      "（ 6 ） 患者 必须 稳定 应用 最小 推荐 剂量 ACEI 或 ARB 治疗 3 个 月 以上 （ ACEI 和 ARB 不可 联用 ） ， 且 在 筛选 前 4 周未 调整 该 治疗 方案 ；\n",
      "Pharmaceutical Substance or Drug Therapy or Surgery\n",
      "309\n",
      "5 . 在 过去 1   年 中 ， 颈肩痛 时间 至少 有 30   天 ；\n",
      "Laboratory Examinations Symptom\n",
      "313\n",
      "（ 5 ） 近 1 个 月 内 未 接受 过 影响 本 试验 观察 的 药物 治疗 ；\n",
      "Pharmaceutical Substance or Drug Therapy or Surgery\n",
      "320\n",
      "16 . 无法 去除 感染 源 ， 如 无法 外科 干预 或 引流 。\n",
      "Disease Multiple\n",
      "322\n",
      "（ 3 ） 正畸 治疗 前 牙面 已经 存在 釉质 发育不全 、 氟斑 、 釉质 脱矿 等 情况 。\n",
      "Therapy or Surgery Oral related\n",
      "324\n",
      "2 椎 - 基底 动脉 系统 脑梗死 、 多发性 腔隙性 脑梗死 病史 和 或 重度 脑 白质 疏松 ( 能够 通过 CT 进行 判断 ) ；\n",
      "Disease Diagnostic\n",
      "327\n",
      "（ 4 ） 外周血 白细胞 ≥ 3.5 x10   9   , 血小板 及 肝肾 功能 正常 。\n",
      "Organ or Tissue Status "
     ]
    },
    {
     "ename": "KeyboardInterrupt",
     "evalue": "",
     "output_type": "error",
     "traceback": [
      "\u001b[0;31m---------------------------------------------------------------------------\u001b[0m",
      "\u001b[0;31mKeyboardInterrupt\u001b[0m                         Traceback (most recent call last)",
      "\u001b[0;32m<ipython-input-149-ce1eda9efa01>\u001b[0m in \u001b[0;36m<module>\u001b[0;34m\u001b[0m\n\u001b[1;32m      3\u001b[0m         \u001b[0mprint\u001b[0m\u001b[0;34m(\u001b[0m\u001b[0msidx\u001b[0m\u001b[0;34m)\u001b[0m\u001b[0;34m\u001b[0m\u001b[0;34m\u001b[0m\u001b[0m\n\u001b[1;32m      4\u001b[0m         \u001b[0mprint\u001b[0m\u001b[0;34m(\u001b[0m\u001b[0mvalid\u001b[0m\u001b[0;34m[\u001b[0m\u001b[0msidx\u001b[0m\u001b[0;34m]\u001b[0m\u001b[0;34m)\u001b[0m\u001b[0;34m\u001b[0m\u001b[0;34m\u001b[0m\u001b[0m\n\u001b[0;32m----> 5\u001b[0;31m         \u001b[0mprint\u001b[0m\u001b[0;34m(\u001b[0m\u001b[0midx2lbl\u001b[0m\u001b[0;34m[\u001b[0m\u001b[0mpredict_lr\u001b[0m\u001b[0;34m(\u001b[0m\u001b[0;34m[\u001b[0m\u001b[0mvalid\u001b[0m\u001b[0;34m[\u001b[0m\u001b[0msidx\u001b[0m\u001b[0;34m]\u001b[0m\u001b[0;34m]\u001b[0m\u001b[0;34m)\u001b[0m\u001b[0;34m[\u001b[0m\u001b[0;36m0\u001b[0m\u001b[0;34m]\u001b[0m\u001b[0;34m]\u001b[0m\u001b[0;34m,\u001b[0m \u001b[0midx2lbl\u001b[0m\u001b[0;34m[\u001b[0m\u001b[0mvalid_lbls\u001b[0m\u001b[0;34m[\u001b[0m\u001b[0msidx\u001b[0m\u001b[0;34m]\u001b[0m\u001b[0;34m]\u001b[0m\u001b[0;34m)\u001b[0m\u001b[0;34m\u001b[0m\u001b[0;34m\u001b[0m\u001b[0m\n\u001b[0m",
      "\u001b[0;32m~/miniconda3/envs/pingan3/lib/python3.6/site-packages/ipykernel/iostream.py\u001b[0m in \u001b[0;36mwrite\u001b[0;34m(self, string)\u001b[0m\n\u001b[1;32m    400\u001b[0m             \u001b[0mis_child\u001b[0m \u001b[0;34m=\u001b[0m \u001b[0;34m(\u001b[0m\u001b[0;32mnot\u001b[0m \u001b[0mself\u001b[0m\u001b[0;34m.\u001b[0m\u001b[0m_is_master_process\u001b[0m\u001b[0;34m(\u001b[0m\u001b[0;34m)\u001b[0m\u001b[0;34m)\u001b[0m\u001b[0;34m\u001b[0m\u001b[0;34m\u001b[0m\u001b[0m\n\u001b[1;32m    401\u001b[0m             \u001b[0;31m# only touch the buffer in the IO thread to avoid races\u001b[0m\u001b[0;34m\u001b[0m\u001b[0;34m\u001b[0m\u001b[0;34m\u001b[0m\u001b[0m\n\u001b[0;32m--> 402\u001b[0;31m             \u001b[0mself\u001b[0m\u001b[0;34m.\u001b[0m\u001b[0mpub_thread\u001b[0m\u001b[0;34m.\u001b[0m\u001b[0mschedule\u001b[0m\u001b[0;34m(\u001b[0m\u001b[0;32mlambda\u001b[0m \u001b[0;34m:\u001b[0m \u001b[0mself\u001b[0m\u001b[0;34m.\u001b[0m\u001b[0m_buffer\u001b[0m\u001b[0;34m.\u001b[0m\u001b[0mwrite\u001b[0m\u001b[0;34m(\u001b[0m\u001b[0mstring\u001b[0m\u001b[0;34m)\u001b[0m\u001b[0;34m)\u001b[0m\u001b[0;34m\u001b[0m\u001b[0;34m\u001b[0m\u001b[0m\n\u001b[0m\u001b[1;32m    403\u001b[0m             \u001b[0;32mif\u001b[0m \u001b[0mis_child\u001b[0m\u001b[0;34m:\u001b[0m\u001b[0;34m\u001b[0m\u001b[0;34m\u001b[0m\u001b[0m\n\u001b[1;32m    404\u001b[0m                 \u001b[0;31m# newlines imply flush in subprocesses\u001b[0m\u001b[0;34m\u001b[0m\u001b[0;34m\u001b[0m\u001b[0;34m\u001b[0m\u001b[0m\n",
      "\u001b[0;32m~/miniconda3/envs/pingan3/lib/python3.6/site-packages/ipykernel/iostream.py\u001b[0m in \u001b[0;36mschedule\u001b[0;34m(self, f)\u001b[0m\n\u001b[1;32m    203\u001b[0m             \u001b[0mself\u001b[0m\u001b[0;34m.\u001b[0m\u001b[0m_events\u001b[0m\u001b[0;34m.\u001b[0m\u001b[0mappend\u001b[0m\u001b[0;34m(\u001b[0m\u001b[0mf\u001b[0m\u001b[0;34m)\u001b[0m\u001b[0;34m\u001b[0m\u001b[0;34m\u001b[0m\u001b[0m\n\u001b[1;32m    204\u001b[0m             \u001b[0;31m# wake event thread (message content is ignored)\u001b[0m\u001b[0;34m\u001b[0m\u001b[0;34m\u001b[0m\u001b[0;34m\u001b[0m\u001b[0m\n\u001b[0;32m--> 205\u001b[0;31m             \u001b[0mself\u001b[0m\u001b[0;34m.\u001b[0m\u001b[0m_event_pipe\u001b[0m\u001b[0;34m.\u001b[0m\u001b[0msend\u001b[0m\u001b[0;34m(\u001b[0m\u001b[0;34mb''\u001b[0m\u001b[0;34m)\u001b[0m\u001b[0;34m\u001b[0m\u001b[0;34m\u001b[0m\u001b[0m\n\u001b[0m\u001b[1;32m    206\u001b[0m         \u001b[0;32melse\u001b[0m\u001b[0;34m:\u001b[0m\u001b[0;34m\u001b[0m\u001b[0;34m\u001b[0m\u001b[0m\n\u001b[1;32m    207\u001b[0m             \u001b[0mf\u001b[0m\u001b[0;34m(\u001b[0m\u001b[0;34m)\u001b[0m\u001b[0;34m\u001b[0m\u001b[0;34m\u001b[0m\u001b[0m\n",
      "\u001b[0;32m~/miniconda3/envs/pingan3/lib/python3.6/site-packages/ipykernel/iostream.py\u001b[0m in \u001b[0;36m_event_pipe\u001b[0;34m(self)\u001b[0m\n\u001b[1;32m     95\u001b[0m         \u001b[0;34m\"\"\"thread-local event pipe for signaling events that should be processed in the thread\"\"\"\u001b[0m\u001b[0;34m\u001b[0m\u001b[0;34m\u001b[0m\u001b[0m\n\u001b[1;32m     96\u001b[0m         \u001b[0;32mtry\u001b[0m\u001b[0;34m:\u001b[0m\u001b[0;34m\u001b[0m\u001b[0;34m\u001b[0m\u001b[0m\n\u001b[0;32m---> 97\u001b[0;31m             \u001b[0mevent_pipe\u001b[0m \u001b[0;34m=\u001b[0m \u001b[0mself\u001b[0m\u001b[0;34m.\u001b[0m\u001b[0m_local\u001b[0m\u001b[0;34m.\u001b[0m\u001b[0mevent_pipe\u001b[0m\u001b[0;34m\u001b[0m\u001b[0;34m\u001b[0m\u001b[0m\n\u001b[0m\u001b[1;32m     98\u001b[0m         \u001b[0;32mexcept\u001b[0m \u001b[0mAttributeError\u001b[0m\u001b[0;34m:\u001b[0m\u001b[0;34m\u001b[0m\u001b[0;34m\u001b[0m\u001b[0m\n\u001b[1;32m     99\u001b[0m             \u001b[0;31m# new thread, new event pipe\u001b[0m\u001b[0;34m\u001b[0m\u001b[0;34m\u001b[0m\u001b[0;34m\u001b[0m\u001b[0m\n",
      "\u001b[0;31mKeyboardInterrupt\u001b[0m: "
     ]
    }
   ],
   "source": [
    "for sidx, inp in enumerate(valid):\n",
    "    if idx2lbl[predict_lr([valid[sidx]])[0]] != idx2lbl[valid_lbls[sidx]]:\n",
    "        print(sidx)\n",
    "        print(valid[sidx])\n",
    "        print(idx2lbl[predict_lr([valid[sidx]])[0]], idx2lbl[valid_lbls[sidx]])"
   ]
  },
  {
   "cell_type": "code",
   "execution_count": 126,
   "metadata": {},
   "outputs": [
    {
     "data": {
      "text/plain": [
       "'4 . 年龄 小于 65 岁 。'"
      ]
     },
     "execution_count": 126,
     "metadata": {},
     "output_type": "execute_result"
    }
   ],
   "source": [
    "train[sidx]"
   ]
  },
  {
   "cell_type": "markdown",
   "metadata": {},
   "source": [
    "### 解释预测（UNK替换）\n",
    "use_unk_distribution=True 代表使用替换UNK的方式进行样本扰动"
   ]
  },
  {
   "cell_type": "code",
   "execution_count": 8,
   "metadata": {},
   "outputs": [],
   "source": [
    "nlp = spacy.load('zh')"
   ]
  },
  {
   "cell_type": "code",
   "execution_count": 9,
   "metadata": {},
   "outputs": [],
   "source": [
    "explainer = anchor_text.AnchorText(nlp, idx2lbl, use_unk_distribution=True)"
   ]
  },
  {
   "cell_type": "code",
   "execution_count": 10,
   "metadata": {},
   "outputs": [
    {
     "name": "stdout",
     "output_type": "stream",
     "text": [
      "Prediction: Age\n"
     ]
    }
   ],
   "source": [
    "sidx = 3\n",
    "np.random.seed(1)\n",
    "text = valid[sidx]\n",
    "pred = explainer.class_names[predict_lr([text])[0]]\n",
    "# alternative =  explainer.class_names[1 - predict_lr([text])[0]]\n",
    "print('Prediction: %s' % pred)\n",
    "exp = explainer.explain_instance(text, predict_lr, threshold=0.95, use_proba=True)"
   ]
  },
  {
   "cell_type": "code",
   "execution_count": 12,
   "metadata": {},
   "outputs": [
    {
     "data": {
      "text/plain": [
       "'( 1 ) 前牙 结构 发育不良 ： 釉质 发育不全 、 氟斑牙 、 四环素牙 等 ；'"
      ]
     },
     "execution_count": 12,
     "metadata": {},
     "output_type": "execute_result"
    }
   ],
   "source": [
    "text"
   ]
  },
  {
   "cell_type": "code",
   "execution_count": 13,
   "metadata": {},
   "outputs": [
    {
     "name": "stdout",
     "output_type": "stream",
     "text": [
      "Anchor: \n",
      "Precision: 1.00\n",
      "\n",
      "Examples where anchor applies and model predicts Age:\n",
      "\n",
      "\n",
      "\n",
      "Examples where anchor applies and model predicts others\n",
      "\n",
      "\n"
     ]
    }
   ],
   "source": [
    "print('Anchor: %s' % (' AND '.join(exp.names())))\n",
    "print('Precision: %.2f' % exp.precision())\n",
    "print()\n",
    "print('Examples where anchor applies and model predicts %s:' % pred)\n",
    "print()\n",
    "print('\\n'.join([x[0] for x in exp.examples(only_same_prediction=True)]))\n",
    "print()\n",
    "print('Examples where anchor applies and model predicts others')\n",
    "print()\n",
    "print('\\n'.join([x[0] for x in exp.examples(only_different_prediction=True)]))"
   ]
  },
  {
   "cell_type": "markdown",
   "metadata": {},
   "source": [
    "### 解释预测（近邻词替换）\n",
    "use_unk_distribution=False 代表使用替换近邻词的方式进行扰动"
   ]
  },
  {
   "cell_type": "code",
   "execution_count": 14,
   "metadata": {},
   "outputs": [],
   "source": [
    "explainer = anchor_text.AnchorText(nlp, idx2lbl, use_unk_distribution=False)"
   ]
  },
  {
   "cell_type": "code",
   "execution_count": 15,
   "metadata": {},
   "outputs": [
    {
     "name": "stdout",
     "output_type": "stream",
     "text": [
      "Prediction: Age\n"
     ]
    }
   ],
   "source": [
    "sidx = 3\n",
    "np.random.seed(1)\n",
    "text = valid[sidx]\n",
    "pred = explainer.class_names[predict_lr([text])[0]]\n",
    "alternative =  explainer.class_names[1 - predict_lr([text])[0]]\n",
    "print('Prediction: %s' % pred)\n",
    "exp = explainer.explain_instance(text, predict_lr, threshold=0.95, use_proba=True)"
   ]
  },
  {
   "cell_type": "code",
   "execution_count": 22,
   "metadata": {},
   "outputs": [
    {
     "data": {
      "text/plain": [
       "'Oral related'"
      ]
     },
     "execution_count": 22,
     "metadata": {},
     "output_type": "execute_result"
    }
   ],
   "source": [
    "idx2lbl[valid_lbls[sidx]]"
   ]
  },
  {
   "cell_type": "code",
   "execution_count": 30,
   "metadata": {},
   "outputs": [
    {
     "data": {
      "text/plain": [
       "'( 1 ) 前牙 结构 发育不良 ： 釉质 发育不全 、 氟斑牙 、 四环素牙 等 ；'"
      ]
     },
     "execution_count": 30,
     "metadata": {},
     "output_type": "execute_result"
    }
   ],
   "source": [
    "text"
   ]
  },
  {
   "cell_type": "code",
   "execution_count": null,
   "metadata": {},
   "outputs": [],
   "source": [
    "predict_lr([jieba.cut('(1)前牙区开颌、反颌、深覆合或深覆盖者；')])"
   ]
  },
  {
   "cell_type": "code",
   "execution_count": 19,
   "metadata": {},
   "outputs": [
    {
     "name": "stdout",
     "output_type": "stream",
     "text": [
      "Anchor: 发育不全 AND 发育不良\n",
      "Precision: 0.96\n",
      "\n",
      "Examples where anchor applies and model predicts Age:\n",
      "\n",
      "(   1   )   前牙   性质   发育不良   ：   灰褐色   发育不全   、   氟斑牙   、   四环素牙   等   ；\n",
      "(   1   )   前牙   模型   发育不良   ：   其菌   发育不全   、   氟斑牙   、   四环素牙   等   ；\n",
      "(   1   )   前牙   层次   发育不良   ：   雕饰   发育不全   、   氟斑牙   、   四环素牙   等   ；\n",
      "(   1   )   前牙   结构   发育不良   ：   颜料   发育不全   、   氟斑牙   、   四环素牙   等   ；\n",
      "(   1   )   前牙   框架   发育不良   ：   线条   发育不全   、   氟斑牙   、   四环素牙   等   ；\n",
      "(   1   )   前牙   规律性   发育不良   ：   斑驳   发育不全   、   氟斑牙   、   四环素牙   等   ；\n",
      "(   1   )   前牙   结构   发育不良   ：   灰白   发育不全   、   氟斑牙   、   四环素牙   等   ；\n",
      "(   1   )   前牙   内部结构   发育不良   ：   朱砂   发育不全   、   氟斑牙   、   四环素牙   等   \n",
      "(   1   )   前牙   结构性   发育不良   ：   其菌   发育不全   、   氟斑牙   、   四环素牙   等   ；\n",
      "(   1   )   前牙   结构性   发育不良   ：   五官   发育不全   、   氟斑牙   、   四环素牙   等   ；\n",
      "\n",
      "Examples where anchor applies and model predicts others.\n",
      "\n",
      "(   1   )   前牙   特性   发育不良   ：   成分   发育不全   、   氟斑牙   、   四环素牙   等   ；\tAllergy Intolerance\n",
      "(   1   )   前牙   功能   发育不良   ：   栗色   发育不全   、   氟斑牙   、   四环素牙   等   ；\tOrgan or Tissue Status\n",
      "(   1   )   前牙   平面   发育不良   ：   皮肤   发育不全   、   氟斑牙   、   四环素牙   等   ；\tDisease\n",
      "(   1   )   前牙   系统   发育不良   ：   轮廓   发育不全   、   氟斑牙   、   四环素牙   等   ；\tDisease\n",
      "(   1   )   前牙   成分   发育不良   ：   青色   发育不全   、   氟斑牙   、   四环素牙   等   ；\tAllergy Intolerance\n",
      "(   1   )   前牙   功能   发育不良   ：   灰绿色   发育不全   、   氟斑牙   、   四环素牙   等   ；\tOrgan or Tissue Status\n",
      "(   1   )   前牙   尺度   发育不良   ：   成分   发育不全   、   氟斑牙   、   四环素牙   等   ；\tAllergy Intolerance\n",
      "(   1   )   前牙   系统   发育不良   ：   花纹   发育不全   、   氟斑牙   、   四环素牙   等   ；\tDisease\n",
      "(   1   )   前牙   成分   发育不良   ：   成分   发育不全   、   氟斑牙   、   四环素牙   等   ；\tAllergy Intolerance\n",
      "(   1   )   前牙   构件   发育不良   ：   成分   发育不全   、   氟斑牙   、   四环素牙   等   ；\tAllergy Intolerance\n"
     ]
    }
   ],
   "source": [
    "print('Anchor: %s' % (' AND '.join(exp.names())))\n",
    "print('Precision: %.2f' % exp.precision())\n",
    "print()\n",
    "print('Examples where anchor applies and model predicts %s:' % pred)\n",
    "print()\n",
    "print('\\n'.join([x[0] for x in exp.examples(only_same_prediction=True)]))\n",
    "print()\n",
    "print('Examples where anchor applies and model predicts others.')\n",
    "print()\n",
    "print('\\n'.join([ '\\t'.join((x[0], idx2lbl[predict_lr([x[0]])[0]])) for x in exp.examples(only_different_prediction=True)]))"
   ]
  },
  {
   "cell_type": "code",
   "execution_count": null,
   "metadata": {},
   "outputs": [],
   "source": []
  },
  {
   "cell_type": "code",
   "execution_count": 35,
   "metadata": {},
   "outputs": [
    {
     "data": {
      "text/plain": [
       "'Disease'"
      ]
     },
     "execution_count": 35,
     "metadata": {},
     "output_type": "execute_result"
    }
   ],
   "source": [
    "idx2lbl[predict_lr(['身体 发育不良 发育不全'])[0]]"
   ]
  },
  {
   "cell_type": "code",
   "execution_count": 75,
   "metadata": {},
   "outputs": [],
   "source": [
    "def online_learning(data, lbls):\n",
    "    vecs = vectorizer.transform(data)\n",
    "    c.partial_fit(vecs, lbls)"
   ]
  },
  {
   "cell_type": "code",
   "execution_count": null,
   "metadata": {},
   "outputs": [],
   "source": [
    "additional_data = ['前牙 发育不良', '前牙 发育']"
   ]
  },
  {
   "cell_type": "code",
   "execution_count": 76,
   "metadata": {},
   "outputs": [],
   "source": [
    "online_learning([text], [lbl2idx['Addictive Behavior']])"
   ]
  },
  {
   "cell_type": "code",
   "execution_count": 77,
   "metadata": {},
   "outputs": [
    {
     "data": {
      "text/plain": [
       "'Addictive Behavior'"
      ]
     },
     "execution_count": 77,
     "metadata": {},
     "output_type": "execute_result"
    }
   ],
   "source": [
    "idx2lbl[predict_lr([text])[0]]"
   ]
  },
  {
   "cell_type": "code",
   "execution_count": 82,
   "metadata": {},
   "outputs": [
    {
     "name": "stdout",
     "output_type": "stream",
     "text": [
      "Prediction: Addictive Behavior\n"
     ]
    }
   ],
   "source": [
    "sidx = 2 \n",
    "np.random.seed(1)\n",
    "text = train[sidx]\n",
    "pred = explainer.class_names[predict_lr([text])[0]]\n",
    "alternative =  explainer.class_names[1 - predict_lr([text])[0]]\n",
    "print('Prediction: %s' % pred)\n",
    "exp = explainer.explain_instance(text, predict_lr, threshold=0.95, use_proba=True)"
   ]
  },
  {
   "cell_type": "code",
   "execution_count": 83,
   "metadata": {},
   "outputs": [
    {
     "name": "stdout",
     "output_type": "stream",
     "text": [
      "Anchor: 滥用 AND 酗酒\n",
      "Precision: 1.00\n",
      "\n",
      "Examples where anchor applies and model predicts Addictive Behavior:\n",
      "\n",
      "10   )   现在   或   曾   滥用   解毒剂   或   酗酒   ，   或者   每天   泡茶   相当于   30   毫升   酒精度   的   硫酸铜   品牌   。\n",
      "10   )   现在   或   从那以后   滥用   药物   或   酗酒   ，   或者   每天   熬   略大   30   毫升   处方药   的   葡萄汁   可口可乐  \n",
      "10   )   现在   或   曾多次   滥用   毒性   或   酗酒   ，   或者   每天   一碗   相等于   30   毫升   哮喘   的   乳酸   饮料   。\n",
      "10   )   现在   或   并未   滥用   病症   或   酗酒   ，   或者   每天   用水   占   30   毫升   止痛药   的   食物   配方   。\n",
      "10   )   现在   或   不过   滥用   氯霉素   或   酗酒   ，   或者   每天   发酵   合计   30   毫升   吗啡   的   添加剂   维他命   。\n",
      "10   )   现在   或   从来不   滥用   中枢神经   或   酗酒   ，   或者   每天   泻药   对应   30   毫升   血浆   的   食品   碳酸   。\n",
      "10   )   现在   或   甚   滥用   药   或   酗酒   ，   或者   每天   食用   最高者   30   毫升   处方   的   胎儿   饮料   。\n",
      "10   )   现在   或   经常   滥用   药物   或   酗酒   ，   或者   每天   喂养   据估计   30   毫升   苦艾   的   化学物质   药品   。\n",
      "10   )   现在   或   曾   滥用   兴奋剂   或   酗酒   ，   或者   每天   放血   将近   30   毫升   饮料   的   酒精   餐点   。\n",
      "10   )   现在   或   经常   滥用   类药物   或   酗酒   ，   或者   每天   浸泡   等同于   30   毫升   酒水   的   精液   甜酒   。\n",
      "\n",
      "Examples where anchor applies and model predicts Ethnicity:\n",
      "\n",
      "\n"
     ]
    }
   ],
   "source": [
    "print('Anchor: %s' % (' AND '.join(exp.names())))\n",
    "print('Precision: %.2f' % exp.precision())\n",
    "print()\n",
    "print('Examples where anchor applies and model predicts %s:' % pred)\n",
    "print()\n",
    "print('\\n'.join([x[0] for x in exp.examples(only_same_prediction=True)]))\n",
    "print()\n",
    "print('Examples where anchor applies and model predicts %s:' % alternative)\n",
    "print()\n",
    "print('\\n'.join([x[0] for x in exp.examples(only_different_prediction=True)]))"
   ]
  },
  {
   "cell_type": "code",
   "execution_count": 102,
   "metadata": {},
   "outputs": [
    {
     "data": {
      "text/plain": [
       "'Addictive Behavior'"
      ]
     },
     "execution_count": 102,
     "metadata": {},
     "output_type": "execute_result"
    }
   ],
   "source": [
    "text = '10   )   现在 滥用 咖啡因'\n",
    "idx2lbl[predict_lr([text])[0]]"
   ]
  },
  {
   "cell_type": "code",
   "execution_count": null,
   "metadata": {},
   "outputs": [],
   "source": []
  }
 ],
 "metadata": {
  "kernelspec": {
   "display_name": "Python 3",
   "language": "python",
   "name": "python3"
  },
  "language_info": {
   "codemirror_mode": {
    "name": "ipython",
    "version": 3
   },
   "file_extension": ".py",
   "mimetype": "text/x-python",
   "name": "python",
   "nbconvert_exporter": "python",
   "pygments_lexer": "ipython3",
   "version": "3.6.9"
  }
 },
 "nbformat": 4,
 "nbformat_minor": 4
}
